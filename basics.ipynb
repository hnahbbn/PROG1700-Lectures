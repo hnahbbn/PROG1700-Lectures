{
 "cells": [
  {
   "cell_type": "code",
   "execution_count": null,
   "id": "0a76a046-6dcb-43d3-81ce-5c1a89f34da2",
   "metadata": {},
   "outputs": [],
   "source": [
    "Hello World"
   ]
  },
  {
   "cell_type": "code",
   "execution_count": null,
   "id": "2dc5d147-f1c5-4723-abb6-6e7ca47f2fad",
   "metadata": {},
   "outputs": [],
   "source": []
  }
 ],
 "metadata": {
  "kernelspec": {
   "display_name": ".NET (PowerShell)",
   "language": "PowerShell",
   "name": ".net-powershell"
  },
  "language_info": {
   "file_extension": ".ps1",
   "mimetype": "text/x-powershell",
   "name": "PowerShell",
   "pygments_lexer": "powershell",
   "version": "7.0"
  }
 },
 "nbformat": 4,
 "nbformat_minor": 5
}
